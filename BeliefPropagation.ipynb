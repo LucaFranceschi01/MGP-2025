{
 "cells": [
  {
   "cell_type": "markdown",
   "metadata": {},
   "source": [
    "# Test 3 on Belief Propagation"
   ]
  },
  {
   "cell_type": "markdown",
   "metadata": {},
   "source": [
    "## Imports and MyBeliefPropagation class"
   ]
  },
  {
   "cell_type": "code",
   "execution_count": 1,
   "metadata": {},
   "outputs": [],
   "source": [
    "from pgmpy.factors.discrete import DiscreteFactor\n",
    "from pgmpy.models import FactorGraph\n",
    "\n",
    "from functools import reduce\n",
    "import operator\n",
    "from collections import defaultdict\n",
    "from copy import deepcopy"
   ]
  },
  {
   "cell_type": "code",
   "execution_count": 2,
   "metadata": {},
   "outputs": [],
   "source": [
    "def prod(iterable):\n",
    "    '''Helper function to obtain the product of all the items in the iterable\n",
    "    given as input'''\n",
    "    return reduce(operator.mul, iterable, 1)\n",
    "\n",
    "\n",
    "class MyBeliefPropagation:\n",
    "    def __init__(self, factor_graph):\n",
    "        assert factor_graph.check_model()\n",
    "        self.original_graph = factor_graph\n",
    "        self.variables = factor_graph.get_variable_nodes()\n",
    "\n",
    "        self.state_names = dict()\n",
    "        for f in self.original_graph.factors:\n",
    "            self.state_names.update(f.state_names)\n",
    "\n",
    "    def get_evidence_factors(self, evidence):\n",
    "        '''\n",
    "        For each evidence variable v, create a factor with p(v=e)=1. Receives a dict of\n",
    "        evidences, where keys are variables and values are variable states. Returns a list of\n",
    "        DiscreteFactor.\n",
    "        '''\n",
    "        # For each factor that involves variable v, add another factor with p(v=value)=1.\n",
    "        # Returns a list of evidence factors.\n",
    "        evidence_factors = []\n",
    "\n",
    "        for variable, value in evidence.items():\n",
    "            i = self.state_names[variable].index(value)\n",
    "            values = [0] * len(self.state_names[variable])\n",
    "            values[i] = 1.0\n",
    "            ef = DiscreteFactor(\n",
    "                variables=[variable],\n",
    "                cardinality=[len(values)],\n",
    "                values=values,\n",
    "                state_names=self.state_names,\n",
    "            )\n",
    "            evidence_factors.append(ef)\n",
    "        return evidence_factors\n",
    "\n",
    "    def set_evidence(self, evidence):\n",
    "        '''\n",
    "        Generates a new graph with the evidence factors\n",
    "        evidence (keys: variables, values: states)\n",
    "        '''\n",
    "        evidence_factors = self.get_evidence_factors(evidence)\n",
    "        self.working_graph = self.original_graph.copy()\n",
    "        for f in evidence_factors:\n",
    "            self.working_graph.add_factors(f)\n",
    "            for v in f.variables:\n",
    "                self.working_graph.add_edge(v, f)\n",
    "        self.bp_done = False\n",
    "\n",
    "    def factor_ones(self, v):\n",
    "        '''\n",
    "        Returns a DiscreteFactor for variable v with all ones.\n",
    "        '''\n",
    "        card = len(self.state_names[v])\n",
    "        return DiscreteFactor(\n",
    "            variables=[v],\n",
    "            cardinality=[card],\n",
    "            values=[1] * card,\n",
    "            state_names=self.state_names,\n",
    "        )\n",
    "\n",
    "    def initialize_messages(self):\n",
    "        '''\n",
    "        This function creates, for each edge factor-variable, two messages: m(f->v) and\n",
    "        m(v->f). It initiliazies each message as a DiscreteFactor with all ones. It stores all\n",
    "        the messages in a dict of dict. Keys of both dicts are either factors or variables.\n",
    "        Messages are indexed as messages[to][from]. For example, m(x->y) is in messages[y][x].\n",
    "        It's done this way because it will be useful to get all messages that go to a variable\n",
    "        or a factor.\n",
    "        '''\n",
    "        self.messages = defaultdict(dict)\n",
    "        for f in self.working_graph.get_factors():\n",
    "            for v in f.variables:\n",
    "                self.messages[v][f] = self.factor_ones(v)\n",
    "                self.messages[f][v] = self.factor_ones(v)\n",
    "\n",
    "    def factor_to_variable(self, f, v):\n",
    "        '''\n",
    "        Computes message m from factor to variable.\n",
    "        It computes it from all messages from all\n",
    "        other variables to the factor (i.e. all variables connected the factor except v).\n",
    "        Returns message m.\n",
    "        '''\n",
    "        assert v in self.variables and f in self.working_graph.factors\n",
    "        messages_to_f = list(self.messages[f].values())\n",
    "        messages_to_f.remove(self.messages[f][v])  # all except the one from variable v\n",
    "\n",
    "        m = f * prod(messages_to_f)\n",
    "        other_vars = set(m.variables) - set([v])\n",
    "        m.marginalize(other_vars)\n",
    "        return m\n",
    "\n",
    "    def variable_to_factor(self, v, f):\n",
    "        '''\n",
    "        Computes message m from variable to factor.\n",
    "        It computes it from all messages from all\n",
    "        other factors to the variable (i.e. all factors connected the variable except f).\n",
    "        Returns message m.\n",
    "        '''\n",
    "        assert v in self.variables and f in self.working_graph.factors\n",
    "        messages_to_v = list(self.messages[v].values())\n",
    "        messages_to_v.remove(self.messages[v][f])  # all except the one from factor f\n",
    "        if (\n",
    "            len(messages_to_v) == 0\n",
    "        ):  # No neighbors, return 1 (or return None and do not update)\n",
    "            return self.factor_ones(v)\n",
    "        m = prod(messages_to_v)\n",
    "        return m\n",
    "\n",
    "    def update(self, m_to, m_from):\n",
    "        '''\n",
    "        Performs an update of a message depending on whether it is variable-to-factor or\n",
    "        factor-to-variable.\n",
    "        '''\n",
    "        if m_from in self.variables:\n",
    "            assert m_to in self.working_graph.factors, f'm_from: {m_from}\\nm_to: {m_to}'\n",
    "            self.messages[m_to][m_from] = self.variable_to_factor(m_from, m_to)\n",
    "        else:\n",
    "            assert (\n",
    "                m_from in self.working_graph.factors and m_to in self.variables\n",
    "            ), f'm_from: {m_from}\\nm_to: {m_to}'\n",
    "            self.messages[m_to][m_from] = self.factor_to_variable(m_from, m_to)\n",
    "\n",
    "    def collect_evidence(self, node, parent=None):\n",
    "        '''\n",
    "        Passes messages from the leaves to the root of the tree.\n",
    "        The parent argument is used to avoid an infinite recursion.\n",
    "        '''\n",
    "        for child in self.working_graph.neighbors(node):\n",
    "            if child != parent:\n",
    "                self.update(node, self.collect_evidence(child, parent=node))\n",
    "        return node\n",
    "\n",
    "    def distribute_evidence(self, node, parent=None):\n",
    "        '''\n",
    "        Passes messages from the root to the leaves of the tree.\n",
    "        The parent argument is used to avoid an infinite recursion.\n",
    "        '''\n",
    "        for child in self.working_graph.neighbors(node):\n",
    "            if child != parent:\n",
    "                self.update(child, node)\n",
    "                self.distribute_evidence(child, parent=node)\n",
    "\n",
    "    def run_bp(self, root):\n",
    "        '''\n",
    "        After initializing the messages, this function performs Belief Propagation\n",
    "        using collect_evidence and distribute_evidence from the given root node.\n",
    "        '''\n",
    "        assert root in self.variables, 'Variable not in the model'\n",
    "        self.initialize_messages()\n",
    "        print('Working graph', self.working_graph.check_model())\n",
    "        self.collect_evidence(root)\n",
    "        self.distribute_evidence(root)\n",
    "        self.bp_done = True\n",
    "\n",
    "    def get_marginal(self, variable):\n",
    "        '''\n",
    "        To be used after run_bp. Returns p(variable | evidence) unnormalized.\n",
    "        '''\n",
    "        assert self.bp_done, 'First run BP!'\n",
    "        return prod(self.messages[variable].values())\n",
    "\n",
    "    def get_marginal_subset(self, variables):\n",
    "        '''\n",
    "        Returns p(variables | evidence) unnormalized.\n",
    "        '''\n",
    "        assert self.bp_done, 'First run BP!'\n",
    "        # IMPLEMENT\n",
    "        product = 1\n",
    "        factor = None\n",
    "        for f in self.working_graph.factors:\n",
    "            # print(f.variables, variables)\n",
    "            if set(variables).issubset(f.variables):\n",
    "                factor = f\n",
    "                break\n",
    "\n",
    "        if factor is None:\n",
    "            raise ValueError('Not valid set of variables')\n",
    "\n",
    "        res = factor\n",
    "        mssgs = [self.messages[factor][v] for v in f.variables]\n",
    "\n",
    "        res = factor * prod(mssgs)\n",
    "\n",
    "        return res.marginalize(\n",
    "            [v for v in f.variables if v not in variables], inplace=False\n",
    "        )"
   ]
  },
  {
   "cell_type": "markdown",
   "metadata": {},
   "source": [
    "## Declare DiscreteFactors"
   ]
  },
  {
   "cell_type": "code",
   "execution_count": 3,
   "metadata": {},
   "outputs": [],
   "source": [
    "variables = ['BT', 'UT', 'Ho', 'Pr']\n",
    "state_names = dict([(var, [True, False]) for var in variables])\n",
    "\n",
    "p = dict()\n",
    "p['Pr'] = DiscreteFactor(\n",
    "    variables=['Pr'], cardinality=[2], values=[0.87, 0.13], state_names=state_names\n",
    ")\n",
    "\n",
    "p['Ho|Pr'] = DiscreteFactor(\n",
    "    variables=['Pr', 'Ho'],\n",
    "    cardinality=[2, 2],\n",
    "    values=[0.99, 0.01, 0.1, 0.9],\n",
    "    state_names=state_names,\n",
    ")\n",
    "\n",
    "p['BT|Ho'] = DiscreteFactor(\n",
    "    variables=['Ho', 'BT'],\n",
    "    cardinality=[2, 2],\n",
    "    values=[0.9, 0.1, 0.3, 0.7],\n",
    "    state_names=state_names,\n",
    ")\n",
    "\n",
    "p['UT|Ho'] = DiscreteFactor(\n",
    "    variables=['Ho', 'UT'],\n",
    "    cardinality=[2, 2],\n",
    "    values=[0.9, 0.1, 0.2, 0.8],\n",
    "    state_names=state_names,\n",
    ")"
   ]
  },
  {
   "cell_type": "markdown",
   "metadata": {},
   "source": [
    "## Create FactorGraph"
   ]
  },
  {
   "cell_type": "code",
   "execution_count": 4,
   "metadata": {},
   "outputs": [
    {
     "name": "stdout",
     "output_type": "stream",
     "text": [
      "Model is ok:  True\n"
     ]
    }
   ],
   "source": [
    "G = FactorGraph()\n",
    "assert set(variables) == set([v for f in p.values() for v in f.variables])\n",
    "\n",
    "G.add_nodes_from(variables)\n",
    "for f in p.values():\n",
    "    G.add_factors(f)\n",
    "    for v in f.variables:\n",
    "        G.add_edge(v, f)\n",
    "\n",
    "print('Model is ok: ', G.check_model())"
   ]
  },
  {
   "cell_type": "code",
   "execution_count": 5,
   "metadata": {},
   "outputs": [
    {
     "data": {
      "text/plain": [
       "4"
      ]
     },
     "execution_count": 5,
     "metadata": {},
     "output_type": "execute_result"
    }
   ],
   "source": [
    "len(G.factors)"
   ]
  },
  {
   "cell_type": "markdown",
   "metadata": {},
   "source": [
    "## Run BeliefPropagation"
   ]
  },
  {
   "cell_type": "code",
   "execution_count": 14,
   "metadata": {},
   "outputs": [
    {
     "name": "stdout",
     "output_type": "stream",
     "text": [
      "Working graph True\n",
      "+-----------+-----------+\n",
      "| Pr        |   phi(Pr) |\n",
      "+===========+===========+\n",
      "| Pr(True)  |    0.6982 |\n",
      "+-----------+-----------+\n",
      "| Pr(False) |    0.0176 |\n",
      "+-----------+-----------+\n",
      "+-----------+-----------+\n",
      "| Pr        |   phi(Pr) |\n",
      "+===========+===========+\n",
      "| Pr(True)  |    0.9755 |\n",
      "+-----------+-----------+\n",
      "| Pr(False) |    0.0245 |\n",
      "+-----------+-----------+\n"
     ]
    }
   ],
   "source": [
    "bp = MyBeliefPropagation(G)\n",
    "bp.set_evidence({'BT': True, 'UT': True})\n",
    "bp.run_bp(root='BT')\n",
    "\n",
    "res = bp.get_marginal('Pr')\n",
    "res_norm = res.normalize(inplace=False)\n",
    "print(res)\n",
    "print(res_norm)"
   ]
  },
  {
   "cell_type": "code",
   "execution_count": 7,
   "metadata": {},
   "outputs": [
    {
     "data": {
      "text/plain": [
       "np.float64(0.7157250000000001)"
      ]
     },
     "execution_count": 7,
     "metadata": {},
     "output_type": "execute_result"
    }
   ],
   "source": [
    "res.values.sum()"
   ]
  },
  {
   "cell_type": "code",
   "execution_count": 8,
   "metadata": {},
   "outputs": [
    {
     "data": {
      "text/plain": [
       "(8, 7)"
      ]
     },
     "execution_count": 8,
     "metadata": {},
     "output_type": "execute_result"
    }
   ],
   "source": [
    "len(G.nodes), len(G.edges())"
   ]
  },
  {
   "cell_type": "markdown",
   "metadata": {},
   "source": [
    "## Get normalization factors"
   ]
  },
  {
   "cell_type": "code",
   "execution_count": 16,
   "metadata": {},
   "outputs": [
    {
     "name": "stdout",
     "output_type": "stream",
     "text": [
      "0.7157250000000001\n",
      "0.7157250000000001\n",
      "0.7157250000000001\n"
     ]
    }
   ],
   "source": [
    "print(bp.get_marginal_subset(['Pr', 'Ho']).values.sum())\n",
    "\n",
    "print(bp.get_marginal('Pr').values.sum())\n",
    "\n",
    "print(bp.get_marginal('Ho').values.sum())"
   ]
  },
  {
   "cell_type": "markdown",
   "metadata": {},
   "source": [
    "Which is the probability of evidence."
   ]
  }
 ],
 "metadata": {
  "kernelspec": {
   "display_name": ".venv",
   "language": "python",
   "name": "python3"
  },
  "language_info": {
   "codemirror_mode": {
    "name": "ipython",
    "version": 3
   },
   "file_extension": ".py",
   "mimetype": "text/x-python",
   "name": "python",
   "nbconvert_exporter": "python",
   "pygments_lexer": "ipython3",
   "version": "3.13.1"
  }
 },
 "nbformat": 4,
 "nbformat_minor": 2
}
